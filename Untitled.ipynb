{
 "cells": [
  {
   "cell_type": "code",
   "execution_count": 1,
   "id": "ea16ea2b",
   "metadata": {},
   "outputs": [],
   "source": [
    "import firebase_admin\n",
    "from firebase_admin import credentials\n",
    "from firebase_admin import firestore\n",
    "\n",
    "cred = credentials.Certificate('beecoder.json')\n",
    "firebase_admin.initialize_app(cred)\n",
    "\n",
    "db = firestore.client()"
   ]
  },
  {
   "cell_type": "code",
   "execution_count": 13,
   "id": "34f8107e",
   "metadata": {},
   "outputs": [
    {
     "name": "stdout",
     "output_type": "stream",
     "text": [
      "Document data: {'status': False}\n"
     ]
    }
   ],
   "source": [
    "user_ref = db.collection('entrance_status').document('s.v@mail.ru')\n",
    "\n",
    "user = user_ref.get()\n",
    "if user.exists:\n",
    "    print(f'Document data: {user.to_dict()}')\n",
    "else:\n",
    "    print(u'No such document!')\n",
    "# docs = users_ref.stream()\n",
    "\n",
    "# for doc in docs:\n",
    "#     print(doc.to_dict())"
   ]
  },
  {
   "cell_type": "code",
   "execution_count": null,
   "id": "052abff9",
   "metadata": {},
   "outputs": [],
   "source": [
    "# method to get json with EMAIL and QR_NUM\n",
    "# I get {'email':email, 'key':key}\n",
    "# 1. check if QR_NUM equals server's value\n",
    "# 2. find EMAIL in firestore to set status\n",
    "# 3. If found => return {'status': 200}\n",
    "# 4. If not => return {'status': 400}"
   ]
  }
 ],
 "metadata": {
  "kernelspec": {
   "display_name": "Python 3 (ipykernel)",
   "language": "python",
   "name": "python3"
  },
  "language_info": {
   "codemirror_mode": {
    "name": "ipython",
    "version": 3
   },
   "file_extension": ".py",
   "mimetype": "text/x-python",
   "name": "python",
   "nbconvert_exporter": "python",
   "pygments_lexer": "ipython3",
   "version": "3.9.12"
  }
 },
 "nbformat": 4,
 "nbformat_minor": 5
}
